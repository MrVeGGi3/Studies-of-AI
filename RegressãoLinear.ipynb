{
  "nbformat": 4,
  "nbformat_minor": 0,
  "metadata": {
    "colab": {
      "provenance": [],
      "authorship_tag": "ABX9TyP8wu5M5HK1WYGHdbtsuSZG",
      "include_colab_link": true
    },
    "kernelspec": {
      "name": "python3",
      "display_name": "Python 3"
    },
    "language_info": {
      "name": "python"
    }
  },
  "cells": [
    {
      "cell_type": "markdown",
      "metadata": {
        "id": "view-in-github",
        "colab_type": "text"
      },
      "source": [
        "<a href=\"https://colab.research.google.com/github/MrVeGGi3/Studies-of-AI/blob/main/Regress%C3%A3oLinear.ipynb\" target=\"_parent\"><img src=\"https://colab.research.google.com/assets/colab-badge.svg\" alt=\"Open In Colab\"/></a>"
      ]
    },
    {
      "cell_type": "code",
      "execution_count": 1,
      "metadata": {
        "id": "VfVCgHP-Je4j"
      },
      "outputs": [],
      "source": [
        "from numpy import *\n",
        "class LinearRegression:\n",
        "  def _init_(self, x, y ):\n",
        "    self.x = x\n",
        "    self.y = y\n",
        "    self.__correlation_coefficient = self.__correlacao()\n",
        "    self.__inclination = self.__inclinacao()\n",
        "    self.__intercept = self.interceptao()\n",
        "\n",
        "  def __correlacao(self):\n",
        "    covariacao = cov(self.x, self.y, bias = True) [0][1]\n",
        "    variancia_x = var(self.x)\n",
        "    variancia_y = var(self.y)\n",
        "    return covariacao / sqrt(variancia_x * variancia_y)\n",
        "\n",
        "  def __inclinacao(self):\n",
        "    stdx = std(self.x)\n",
        "    stdy = std(self.y)\n",
        "    return  self.__correlation_coefficient * (stdy / stdx)\n",
        "\n",
        "  def __interceptacao(self):\n",
        "    mediax = mean(self.x)\n",
        "    mediay = mean(self.y)\n",
        "    return mediay - mediax * self.__inclination\n",
        "\n",
        "  def previsao(self, valor):\n",
        "    return self.__intercept + (self.__inclination * valor)\n"
      ]
    },
    {
      "cell_type": "code",
      "source": [
        "x = array([1,2,3,4,5])\n",
        "y = array([2,4,6,8,10])\n",
        "lr = LinearRegression(x,y)\n",
        "previsao = lr.previsao(6)\n",
        "print(previsao)"
      ],
      "metadata": {
        "id": "br17lKsDSGYg",
        "colab": {
          "base_uri": "https://localhost:8080/",
          "height": 236
        },
        "outputId": "c1fd8979-90ce-435c-9770-ea484a8549ea"
      },
      "execution_count": 7,
      "outputs": [
        {
          "output_type": "error",
          "ename": "AttributeError",
          "evalue": "'LinearRegression' object has no attribute 'previsao'",
          "traceback": [
            "\u001b[0;31m---------------------------------------------------------------------------\u001b[0m",
            "\u001b[0;31mAttributeError\u001b[0m                            Traceback (most recent call last)",
            "\u001b[0;32m<ipython-input-7-b654c778ca1e>\u001b[0m in \u001b[0;36m<cell line: 4>\u001b[0;34m()\u001b[0m\n\u001b[1;32m      2\u001b[0m \u001b[0my\u001b[0m \u001b[0;34m=\u001b[0m \u001b[0marray\u001b[0m\u001b[0;34m(\u001b[0m\u001b[0;34m[\u001b[0m\u001b[0;36m2\u001b[0m\u001b[0;34m,\u001b[0m\u001b[0;36m4\u001b[0m\u001b[0;34m,\u001b[0m\u001b[0;36m6\u001b[0m\u001b[0;34m,\u001b[0m\u001b[0;36m8\u001b[0m\u001b[0;34m,\u001b[0m\u001b[0;36m10\u001b[0m\u001b[0;34m]\u001b[0m\u001b[0;34m)\u001b[0m\u001b[0;34m\u001b[0m\u001b[0;34m\u001b[0m\u001b[0m\n\u001b[1;32m      3\u001b[0m \u001b[0mlr\u001b[0m \u001b[0;34m=\u001b[0m \u001b[0mLinearRegression\u001b[0m\u001b[0;34m(\u001b[0m\u001b[0;34m)\u001b[0m\u001b[0;34m\u001b[0m\u001b[0;34m\u001b[0m\u001b[0m\n\u001b[0;32m----> 4\u001b[0;31m \u001b[0mprevisao\u001b[0m \u001b[0;34m=\u001b[0m \u001b[0mlr\u001b[0m\u001b[0;34m.\u001b[0m\u001b[0mprevisao\u001b[0m\u001b[0;34m(\u001b[0m\u001b[0;36m6\u001b[0m\u001b[0;34m)\u001b[0m\u001b[0;34m\u001b[0m\u001b[0;34m\u001b[0m\u001b[0m\n\u001b[0m\u001b[1;32m      5\u001b[0m \u001b[0mprint\u001b[0m\u001b[0;34m(\u001b[0m\u001b[0mprevisao\u001b[0m\u001b[0;34m)\u001b[0m\u001b[0;34m\u001b[0m\u001b[0;34m\u001b[0m\u001b[0m\n",
            "\u001b[0;31mAttributeError\u001b[0m: 'LinearRegression' object has no attribute 'previsao'"
          ]
        }
      ]
    }
  ]
}